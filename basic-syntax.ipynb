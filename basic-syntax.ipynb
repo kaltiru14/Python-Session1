{
 "cells": [
  {
   "cell_type": "markdown",
   "metadata": {},
   "source": [
    "Indentation"
   ]
  },
  {
   "cell_type": "code",
   "execution_count": 8,
   "metadata": {},
   "outputs": [
    {
     "name": "stdout",
     "output_type": "stream",
     "text": [
      "Welcome Second Customer\n",
      "Welcome to the bank!\n"
     ]
    }
   ],
   "source": [
    "def greet_customer():\n",
    "    print(\"Welcome to the bank!\")\n",
    "print(\"Welcome Second Customer\")\n",
    "greet_customer()"
   ]
  },
  {
   "cell_type": "code",
   "execution_count": 1,
   "metadata": {},
   "outputs": [
    {
     "name": "stdout",
     "output_type": "stream",
     "text": [
      "5000\n",
      "Fitsum\n"
     ]
    }
   ],
   "source": [
    "#variable name with Camel Case\n",
    "accountBalance = 5000\n",
    "print(accountBalance)\n",
    "\n",
    "interest_rate = 0.06\n",
    "\n",
    "user1 = \"Fitsum\"\n",
    "print(user1)"
   ]
  },
  {
   "cell_type": "code",
   "execution_count": null,
   "metadata": {},
   "outputs": [],
   "source": [
    "name = input(\"Enter your name:\")\n",
    "print(f\"Hello, {name}!\")\n",
    "\n",
    "try:\n",
    "    value = int(input(\"Enter a number:\"))\n",
    "    print(f\"You entered, {value}!\")\n",
    "except ValueError: \n",
    "    print(\"That is not a valid integer!\")\n"
   ]
  },
  {
   "cell_type": "code",
   "execution_count": 17,
   "metadata": {},
   "outputs": [
    {
     "name": "stdout",
     "output_type": "stream",
     "text": [
      "The area of the circle with radius 4.0 is: 50.27\n"
     ]
    }
   ],
   "source": [
    "import math\n",
    "def calculate_area(radius):\n",
    "    return math.pi * radius ** 2\n",
    "def main_one():\n",
    "    radius = float(input(\"Enter the radius of the circle: \"))\n",
    "\n",
    "    area = calculate_area(radius)\n",
    "\n",
    "    print(f\"The area of the circle with radius {radius} is: {area:.2f}\")\n",
    "if __name__ == \"__main__\":\n",
    "    main_one()\n"
   ]
  },
  {
   "cell_type": "markdown",
   "metadata": {},
   "source": [
    "Data Types:\n",
    "Strings, integers, floats, booleans"
   ]
  },
  {
   "cell_type": "code",
   "execution_count": 23,
   "metadata": {},
   "outputs": [
    {
     "name": "stdout",
     "output_type": "stream",
     "text": [
      "Welcome, Fitsum Assamnew\n",
      "ome, F\n"
     ]
    }
   ],
   "source": [
    "name = \"Fitsum\"\n",
    "fathersName = \"Assamnew\"\n",
    "account_holder = name + \" \" + fathersName \n",
    "account_message = f\"Welcome, {account_holder}\"\n",
    "print(account_message)\n",
    "print(account_message[4:10])"
   ]
  },
  {
   "cell_type": "code",
   "execution_count": 25,
   "metadata": {},
   "outputs": [
    {
     "name": "stdout",
     "output_type": "stream",
     "text": [
      "Thank you John Doe for your transaction of $200.50.\n"
     ]
    }
   ],
   "source": [
    "account_name = \"John Doe\"\n",
    "transaction = 200.50\n",
    "receipt = f\"Thank you {account_name} for your transaction of ${transaction:.2f}.\"\n",
    "print(receipt) # Output: Thank you John Doe for your transaction of $200.50."
   ]
  },
  {
   "cell_type": "code",
   "execution_count": 30,
   "metadata": {},
   "outputs": [
    {
     "name": "stdout",
     "output_type": "stream",
     "text": [
      "Qualifies for: True\n"
     ]
    }
   ],
   "source": [
    "has_good_credit = True\n",
    "has_sufficient_loan = True\n",
    "qualifies_for_loan = has_good_credit and has_sufficient_loan\n",
    "print(\"Qualifies for:\", qualifies_for_loan)"
   ]
  },
  {
   "cell_type": "code",
   "execution_count": 31,
   "metadata": {},
   "outputs": [
    {
     "name": "stdout",
     "output_type": "stream",
     "text": [
      "Can withdraw: True\n"
     ]
    }
   ],
   "source": [
    "account_balance = 500\n",
    "withdrawal_amount = 200\n",
    "can_withdraw = withdrawal_amount <= account_balance\n",
    "print(\"Can withdraw:\", can_withdraw) "
   ]
  },
  {
   "cell_type": "code",
   "execution_count": 40,
   "metadata": {},
   "outputs": [
    {
     "name": "stdout",
     "output_type": "stream",
     "text": [
      "3\n"
     ]
    }
   ],
   "source": [
    "a = 1\n",
    "b = 2\n",
    "c = a ^ b \n",
    "print(c)"
   ]
  },
  {
   "cell_type": "markdown",
   "metadata": {},
   "source": [
    "Conditional Statements - \n",
    "If a certain condition is satisfied, do some thing otherwise do this other thing.\n",
    "if a =5:\n",
    "    x = x+y\n",
    "elif a < 0 : \n",
    "    x = y\n",
    "else:\n",
    "    x= x-y"
   ]
  },
  {
   "cell_type": "code",
   "execution_count": 10,
   "metadata": {},
   "outputs": [
    {
     "name": "stdout",
     "output_type": "stream",
     "text": [
      "Monthly fee : $5\n"
     ]
    }
   ],
   "source": [
    "balance = 1200 \n",
    "if balance < 500:\n",
    "    fee = 20\n",
    "elif balance < 1000:\n",
    "    fee = 10\n",
    "else:\n",
    "    fee = 5\n",
    "print(f\"Monthly fee : ${fee}\")"
   ]
  },
  {
   "cell_type": "code",
   "execution_count": 13,
   "metadata": {},
   "outputs": [
    {
     "name": "stdout",
     "output_type": "stream",
     "text": [
      "Overdraft limit: 500\n"
     ]
    }
   ],
   "source": [
    "account_type = \"standard\"\n",
    "balance = 700\n",
    "if account_type == \"premium\":\n",
    "    overdraft_limit = 1000\n",
    "elif account_type == \"standard\" and balance >= 500:\n",
    "    overdraft_limit = 500\n",
    "else:\n",
    "    overdraft_limit = 0\n",
    "print(\"Overdraft limit:\", overdraft_limit)"
   ]
  },
  {
   "cell_type": "code",
   "execution_count": null,
   "metadata": {},
   "outputs": [
    {
     "name": "stdout",
     "output_type": "stream",
     "text": [
      "You are not qualified for special savings account\n"
     ]
    }
   ],
   "source": [
    "def special_account (customer_age,customer_balance):\n",
    "    if (customer_age >= 18) and customer_balance > 5000:\n",
    "        print(\"you qualify for special savings account\")\n",
    "    else:\n",
    "        print(\"You are not qualified for special savings account\")\n",
    "\n",
    "customer_age = int(input(\"enter your age here:\"))\n",
    "customer_balance = float(input(\"Enter your balance:\"))\n",
    "\n",
    "# if the customer age is above 18 and the customers account balance is above 5000$, \n",
    "#they qualify for special savings account. Otherwise, they don't\n",
    "special_account (customer_age,customer_balance)\n"
   ]
  },
  {
   "cell_type": "code",
   "execution_count": 18,
   "metadata": {},
   "outputs": [
    {
     "name": "stdout",
     "output_type": "stream",
     "text": [
      "your final balance is $1000200\n"
     ]
    }
   ],
   "source": [
    "balance = int(input(\"enter the customer's balance here:\"))\n",
    "if balance > 10000:\n",
    "    balance = balance + 200\n",
    "else: balance\n",
    "print(f\"your final balance is ${balance}\")"
   ]
  },
  {
   "cell_type": "markdown",
   "metadata": {},
   "source": [
    "loops - are constructs that allow you to repeat a portion of code multiple times depending on some conditions\n",
    "\n",
    "for loop: it is used when you know the number of repetitions(iterations) you will have to do\n",
    "Eg for item in collection:\n",
    "    <loop_body>\n",
    "\n",
    "while loop: repeats a block of code until the condition is not satisfied anymore\n",
    "while condition:\n",
    "    <loop_body>"
   ]
  },
  {
   "cell_type": "code",
   "execution_count": null,
   "metadata": {},
   "outputs": [],
   "source": [
    "balances = [100,2345,423,22342,568]\n",
    "total_deposit = 0\n",
    "\n",
    "# for balance in balances:\n",
    "#     total_deposit += balance\n",
    "# print (\"Total deposit is:\", total_deposit)\n",
    "\n",
    "for i in range(-5,10):\n",
    "    print(i)"
   ]
  },
  {
   "cell_type": "code",
   "execution_count": 30,
   "metadata": {},
   "outputs": [
    {
     "name": "stdout",
     "output_type": "stream",
     "text": [
      "incorrect PIN. Attempts left: 2\n",
      "Access granted\n"
     ]
    }
   ],
   "source": [
    "correct_pin = \"1234\"\n",
    "attempts  = 3\n",
    "while attempts > 0:\n",
    "    pin = input(\"Enter PIN:\")\n",
    "    if pin == correct_pin:\n",
    "        print(\"Access granted\")\n",
    "        break\n",
    "    else:\n",
    "        attempts -= 1\n",
    "        print(\"incorrect PIN. Attempts left:\", attempts)\n",
    "if attempts == 0:\n",
    "    print(\"Card blocked due to multiple incorrect attempts.\")"
   ]
  },
  {
   "cell_type": "markdown",
   "metadata": {},
   "source": [
    "Function: used for modularizing code \n",
    "def function (parameters):\n",
    "    <function_body>\n",
    "    return value "
   ]
  },
  {
   "cell_type": "code",
   "execution_count": 32,
   "metadata": {},
   "outputs": [
    {
     "name": "stdout",
     "output_type": "stream",
     "text": [
      "monthly Mortgage payment: 1083333.3333333333\n",
      "Inside void function:\n",
      "Text\n"
     ]
    }
   ],
   "source": [
    "#principal is the amount of money that is to be owed\n",
    "# rate if the interest to be paid per year\n",
    "# term is the number of months the loan is to be paid back in\n",
    "def calculate_mortgage (principal,rate, term):\n",
    "    monthly_rate = rate / 12\n",
    "    months = term * 12\n",
    "    monthly_payment = principal * (monthly_rate * (1 + monthly_rate) ** months) / ((1 + monthly_rate) ** months- 1)\n",
    "    return monthly_payment\n",
    "payment = calculate_mortgage(1000000,13, 15)\n",
    "print (\"monthly Mortgage payment:\" , payment)\n",
    "\n",
    "def void_function():\n",
    "    print(\"Inside void function:\")\n",
    "    return \"Text\"\n",
    "text = void_function()\n",
    "print(text)"
   ]
  }
 ],
 "metadata": {
  "kernelspec": {
   "display_name": "Python 3",
   "language": "python",
   "name": "python3"
  },
  "language_info": {
   "codemirror_mode": {
    "name": "ipython",
    "version": 3
   },
   "file_extension": ".py",
   "mimetype": "text/x-python",
   "name": "python",
   "nbconvert_exporter": "python",
   "pygments_lexer": "ipython3",
   "version": "3.13.1"
  }
 },
 "nbformat": 4,
 "nbformat_minor": 2
}
