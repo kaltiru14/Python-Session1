{
 "cells": [
  {
   "cell_type": "markdown",
   "metadata": {},
   "source": [
    "Indentation"
   ]
  },
  {
   "cell_type": "code",
   "execution_count": 8,
   "metadata": {},
   "outputs": [
    {
     "name": "stdout",
     "output_type": "stream",
     "text": [
      "Welcome Second Customer\n",
      "Welcome to the bank!\n"
     ]
    }
   ],
   "source": [
    "def greet_customer():\n",
    "    print(\"Welcome to the bank!\")\n",
    "print(\"Welcome Second Customer\")\n",
    "greet_customer()"
   ]
  },
  {
   "cell_type": "code",
   "execution_count": 18,
   "metadata": {},
   "outputs": [
    {
     "name": "stdout",
     "output_type": "stream",
     "text": [
      "5000\n",
      "Fitsum\n"
     ]
    }
   ],
   "source": [
    "#variable name with Camel Case\n",
    "accountBalance = 5000\n",
    "print(accountBalance)\n",
    "\n",
    "interest_rate = 0.06\n",
    "\n",
    "user1 = \"Fitsum\"\n",
    "print(user1)"
   ]
  },
  {
   "cell_type": "code",
   "execution_count": 2,
   "metadata": {},
   "outputs": [
    {
     "name": "stdout",
     "output_type": "stream",
     "text": [
      "Hello, kal!\n",
      "You entered, 2!\n"
     ]
    }
   ],
   "source": [
    "name = input(\"Enter your name:\")\n",
    "print(f\"Hello, {name}!\")\n",
    "\n",
    "try:\n",
    "    value = int(input(\"Enter a number:\"))\n",
    "    print(f\"You entered, {value}!\")\n",
    "except ValueError: \n",
    "    print(\"That is not a valid integer!\")\n"
   ]
  },
  {
   "cell_type": "code",
   "execution_count": 17,
   "metadata": {},
   "outputs": [
    {
     "name": "stdout",
     "output_type": "stream",
     "text": [
      "The area of the circle with radius 4.0 is: 50.27\n"
     ]
    }
   ],
   "source": [
    "import math\n",
    "def calculate_area(radius):\n",
    "    return math.pi * radius ** 2\n",
    "def main_one():\n",
    "    radius = float(input(\"Enter the radius of the circle: \"))\n",
    "\n",
    "    area = calculate_area(radius)\n",
    "\n",
    "    print(f\"The area of the circle with radius {radius} is: {area:.2f}\")\n",
    "if __name__ == \"__main__\":\n",
    "    main_one()\n"
   ]
  },
  {
   "cell_type": "markdown",
   "metadata": {},
   "source": [
    "Data Types:\n",
    "Strings, integers, floats, booleans"
   ]
  },
  {
   "cell_type": "code",
   "execution_count": 23,
   "metadata": {},
   "outputs": [
    {
     "name": "stdout",
     "output_type": "stream",
     "text": [
      "Welcome, Fitsum Assamnew\n",
      "ome, F\n"
     ]
    }
   ],
   "source": [
    "name = \"Fitsum\"\n",
    "fathersName = \"Assamnew\"\n",
    "account_holder = name + \" \" + fathersName \n",
    "account_message = f\"Welcome, {account_holder}\"\n",
    "print(account_message)\n",
    "print(account_message[4:10])"
   ]
  },
  {
   "cell_type": "code",
   "execution_count": 25,
   "metadata": {},
   "outputs": [
    {
     "name": "stdout",
     "output_type": "stream",
     "text": [
      "Thank you John Doe for your transaction of $200.50.\n"
     ]
    }
   ],
   "source": [
    "account_name = \"John Doe\"\n",
    "transaction = 200.50\n",
    "receipt = f\"Thank you {account_name} for your transaction of ${transaction:.2f}.\"\n",
    "print(receipt) # Output: Thank you John Doe for your transaction of $200.50."
   ]
  },
  {
   "cell_type": "code",
   "execution_count": 30,
   "metadata": {},
   "outputs": [
    {
     "name": "stdout",
     "output_type": "stream",
     "text": [
      "Qualifies for: True\n"
     ]
    }
   ],
   "source": [
    "has_good_credit = True\n",
    "has_sufficient_loan = True\n",
    "qualifies_for_loan = has_good_credit and has_sufficient_loan\n",
    "print(\"Qualifies for:\", qualifies_for_loan)"
   ]
  },
  {
   "cell_type": "code",
   "execution_count": 31,
   "metadata": {},
   "outputs": [
    {
     "name": "stdout",
     "output_type": "stream",
     "text": [
      "Can withdraw: True\n"
     ]
    }
   ],
   "source": [
    "account_balance = 500\n",
    "withdrawal_amount = 200\n",
    "can_withdraw = withdrawal_amount <= account_balance\n",
    "print(\"Can withdraw:\", can_withdraw) "
   ]
  },
  {
   "cell_type": "code",
   "execution_count": 40,
   "metadata": {},
   "outputs": [
    {
     "name": "stdout",
     "output_type": "stream",
     "text": [
      "3\n"
     ]
    }
   ],
   "source": [
    "a = 1\n",
    "b = 2\n",
    "c = a ^ b \n",
    "print(c)"
   ]
  }
 ],
 "metadata": {
  "kernelspec": {
   "display_name": "Python 3",
   "language": "python",
   "name": "python3"
  },
  "language_info": {
   "codemirror_mode": {
    "name": "ipython",
    "version": 3
   },
   "file_extension": ".py",
   "mimetype": "text/x-python",
   "name": "python",
   "nbconvert_exporter": "python",
   "pygments_lexer": "ipython3",
   "version": "3.13.1"
  }
 },
 "nbformat": 4,
 "nbformat_minor": 2
}
